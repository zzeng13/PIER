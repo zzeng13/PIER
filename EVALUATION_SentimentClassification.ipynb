{
 "cells": [
  {
   "cell_type": "code",
   "execution_count": null,
   "id": "32ceaea2",
   "metadata": {},
   "outputs": [],
   "source": [
    "import os\n",
    "from datetime import datetime\n",
    "from tqdm import trange\n",
    "from src.utils.data_util import DataHandlerSC\n",
    "from src.train_valid_test_step import *\n",
    "from config import Config as config\n",
    "from torch.multiprocessing import set_start_method\n",
    "from src.classifiers.sentiment_classifier import SentimentClassifier\n"
   ]
  },
  {
   "cell_type": "code",
   "execution_count": 2,
   "id": "d319d3cb",
   "metadata": {},
   "outputs": [],
   "source": [
    "import json\n",
    "# I/O helper\n",
    "def read_json_file(path):\n",
    "    with open(path, 'r') as f:\n",
    "        return json.load(f)\n",
    "    \n",
    "def write_json_file(path, data):\n",
    "    with open(path, 'w') as f:\n",
    "        json.dump(data, f)\n",
    "    return\n",
    "\n",
    "def read_json_lines(path_to_file): \n",
    "    with open(path_to_file) as f:\n",
    "        content = f.readlines()\n",
    "    f.close()\n",
    "    raw_data  = [json.loads(x) for x in content] \n",
    "    return raw_data"
   ]
  },
  {
   "cell_type": "code",
   "execution_count": null,
   "id": "7b427ea6",
   "metadata": {},
   "outputs": [],
   "source": [
    "# Load model\n",
    "data_handler = DataHandlerSC()\n",
    "model = SentimentClassifier(data_handler.config)\n",
    "model.to(data_handler.config.DEVICE)"
   ]
  },
  {
   "cell_type": "code",
   "execution_count": 4,
   "id": "76e234af",
   "metadata": {},
   "outputs": [
    {
     "name": "stdout",
     "output_type": "stream",
     "text": [
      "Adapter Name: fusion\n",
      "Adapter Split: random\n",
      "Task Split: random\n"
     ]
    }
   ],
   "source": [
    "# print out current test model information\n",
    "print('Adapter Name: {}'.format(config.ADAPTER_NAME))\n",
    "print('Adapter Split: {}'.format(config.SPLIT))\n",
    "print('Task Split: {}'.format(config.CLS_TYPE))"
   ]
  },
  {
   "cell_type": "code",
   "execution_count": 5,
   "id": "6fcf2211",
   "metadata": {},
   "outputs": [],
   "source": [
    "# Run prediction on test set"
   ]
  },
  {
   "cell_type": "code",
   "execution_count": 6,
   "id": "cb9d98ae",
   "metadata": {},
   "outputs": [
    {
     "name": "stderr",
     "output_type": "stream",
     "text": [
      "                                                                                                    \r"
     ]
    }
   ],
   "source": [
    "model.eval()\n",
    "bbar = tqdm(enumerate(data_handler.validset_generator),\n",
    "                ncols=100, leave=False, total=data_handler.config.num_batch_valid)\n",
    "\n",
    "labels, preds = [], []\n",
    "mc_preds = []\n",
    "for idx, data in bbar:\n",
    "\n",
    "    with torch.no_grad():\n",
    "        # model forward pass to compute loss\n",
    "        loss, logits = model(data)\n",
    "    ys = data['labels'].cpu().detach().numpy().tolist()\n",
    "    labels += ys\n",
    "    ys_ = torch.argmax(logits, dim=-1).cpu().detach().numpy().tolist()\n",
    "    preds += ys_\n",
    "    mc_preds += [1 for _ in ys_]"
   ]
  },
  {
   "cell_type": "code",
   "execution_count": 7,
   "id": "8bca51b1",
   "metadata": {},
   "outputs": [],
   "source": [
    "# Compute evaluation metrics\n",
    "from sklearn.metrics import accuracy_score, precision_score, recall_score, f1_score\n",
    "def compute_performance(y_true, y_pred):\n",
    "    accuracy = accuracy_score(y_true, y_pred)\n",
    "    precision = precision_score(y_true, y_pred)\n",
    "    recall = recall_score(y_true, y_pred)\n",
    "    f1 = f1_score(y_true, y_pred)\n",
    "    return {'accuracy': accuracy, 'precision': precision, 'recall': recall, 'f1': f1}"
   ]
  },
  {
   "cell_type": "code",
   "execution_count": 9,
   "id": "d8793806",
   "metadata": {},
   "outputs": [
    {
     "data": {
      "text/plain": [
       "{'accuracy': 0.9243119266055045,\n",
       " 'precision': 0.9108695652173913,\n",
       " 'recall': 0.9436936936936937,\n",
       " 'f1': 0.9269911504424778}"
      ]
     },
     "execution_count": 9,
     "metadata": {},
     "output_type": "execute_result"
    }
   ],
   "source": [
    "eval_res = compute_performance(labels, preds)\n",
    "eval_res"
   ]
  },
  {
   "cell_type": "code",
   "execution_count": null,
   "id": "4aea5c47",
   "metadata": {},
   "outputs": [],
   "source": []
  }
 ],
 "metadata": {
  "kernelspec": {
   "display_name": "Python 3 (ipykernel)",
   "language": "python",
   "name": "python3"
  },
  "language_info": {
   "codemirror_mode": {
    "name": "ipython",
    "version": 3
   },
   "file_extension": ".py",
   "mimetype": "text/x-python",
   "name": "python",
   "nbconvert_exporter": "python",
   "pygments_lexer": "ipython3",
   "version": "3.7.3"
  }
 },
 "nbformat": 4,
 "nbformat_minor": 5
}
