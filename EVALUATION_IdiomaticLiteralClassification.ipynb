{
 "cells": [
  {
   "cell_type": "code",
   "execution_count": null,
   "id": "626e63a7",
   "metadata": {},
   "outputs": [],
   "source": [
    "import os\n",
    "from datetime import datetime\n",
    "from tqdm import trange\n",
    "from src.utils.data_util import DataHandlerCLSBERT, DataHandlerCLS\n",
    "from src.train_valid_test_step import *\n",
    "from config import Config as config\n",
    "from torch.multiprocessing import set_start_method\n",
    "from src.classifiers.literal_idiom_classifier import LiteralIdiomaticClassifier"
   ]
  },
  {
   "cell_type": "code",
   "execution_count": null,
   "id": "d319d3cb",
   "metadata": {},
   "outputs": [],
   "source": []
  },
  {
   "cell_type": "code",
   "execution_count": null,
   "id": "0c5d071e",
   "metadata": {},
   "outputs": [],
   "source": [
    "# Load model\n",
    "data_handler = DataHandlerCLS()\n",
    "model = LiteralIdiomaticClassifier(data_handler.config)\n",
    "save_path = config.PATH_TO_CHECKPOINT_CLF.format('best')\n",
    "save_path += 'projection_layer.mdl'\n",
    "checkpoint = torch.load(save_path)\n",
    "print(checkpoint['epoch'])\n",
    "model.load_state_dict(checkpoint['state_dict'], strict=False)\n",
    "model.to(config.DEVICE)"
   ]
  },
  {
   "cell_type": "code",
   "execution_count": 4,
   "id": "76e234af",
   "metadata": {},
   "outputs": [
    {
     "name": "stdout",
     "output_type": "stream",
     "text": [
      "Adapter Name: fusion\n",
      "Adapter Split: random\n",
      "Task Split: random\n"
     ]
    }
   ],
   "source": [
    "# print out current test model information\n",
    "print('Adapter Name: {}'.format(config.ADAPTER_NAME))\n",
    "print('Adapter Split: {}'.format(config.SPLIT))\n",
    "print('Task Split: {}'.format(config.CLS_TYPE))"
   ]
  },
  {
   "cell_type": "code",
   "execution_count": 5,
   "id": "6fcf2211",
   "metadata": {},
   "outputs": [],
   "source": [
    "# Run prediction on test set"
   ]
  },
  {
   "cell_type": "code",
   "execution_count": null,
   "id": "cb9d98ae",
   "metadata": {},
   "outputs": [
    {
     "name": "stderr",
     "output_type": "stream",
     "text": [
      " 12%|███████▏                                                      | 15/129 [00:03<00:23,  4.89it/s]"
     ]
    }
   ],
   "source": [
    "model.eval()\n",
    "bbar = tqdm(enumerate(data_handler.validset_generator),\n",
    "                ncols=100, leave=False, total=data_handler.config.num_batch_valid)\n",
    "\n",
    "labels, preds = [], []\n",
    "inputs = []\n",
    "mc_preds = []\n",
    "idioms = []\n",
    "for idx, data in bbar:\n",
    "\n",
    "    with torch.no_grad():\n",
    "        # model forward pass to compute loss\n",
    "        loss, logits = model(data)\n",
    "    ys = data['labels'].cpu().detach().numpy().tolist()\n",
    "    labels += ys\n",
    "    ys_ = torch.argmax(logits, dim=-1).cpu().detach().numpy().tolist()\n",
    "    preds += ys_\n",
    "    mc_preds += [1 for _ in ys_]\n",
    "    xs = data['inputs']['input_ids'].cpu().detach().numpy()  # batch_size, max_xs_seq_len\n",
    "    inputs += list(xs)\n",
    "    idioms += data['idioms']"
   ]
  },
  {
   "cell_type": "code",
   "execution_count": null,
   "id": "038eea2d",
   "metadata": {},
   "outputs": [],
   "source": [
    "from collections import defaultdict\n",
    "from sklearn.metrics import accuracy_score, precision_score, recall_score, f1_score\n"
   ]
  },
  {
   "cell_type": "code",
   "execution_count": null,
   "id": "9fc862d9",
   "metadata": {},
   "outputs": [],
   "source": []
  },
  {
   "cell_type": "code",
   "execution_count": null,
   "id": "9b701a76",
   "metadata": {},
   "outputs": [],
   "source": [
    "idiom2pred = {}\n",
    "\n",
    "for i in range(len(idioms)): \n",
    "    idiom, pred, truth = idioms[i], preds[i], labels[i]\n",
    "    if idiom not in idiom2pred: \n",
    "        idiom2pred[idiom] = {'pred': [], 'truth': []}\n",
    "    idiom2pred[idiom]['pred'].append(pred)\n",
    "    idiom2pred[idiom]['truth'].append(truth)"
   ]
  },
  {
   "cell_type": "code",
   "execution_count": null,
   "id": "9bdcb2f3",
   "metadata": {},
   "outputs": [],
   "source": [
    "# idiom2perf = {}\n",
    "\n",
    "# for idiom in idiom2pred: \n",
    "#     preds, truths = idiom2pred[idiom]['pred'], idiom2pred[idiom]['truth']\n",
    "#     acc = accuracy_score(truths, preds)\n",
    "#     if idiom not in idiom2perf: \n",
    "#         idiom2perf[idiom] = acc\n",
    "    "
   ]
  },
  {
   "cell_type": "code",
   "execution_count": null,
   "id": "729b7d7d",
   "metadata": {},
   "outputs": [],
   "source": []
  },
  {
   "cell_type": "code",
   "execution_count": null,
   "id": "8bca51b1",
   "metadata": {},
   "outputs": [],
   "source": [
    "# Compute evaluation metrics\n",
    "from sklearn.metrics import accuracy_score, precision_score, recall_score, f1_score\n",
    "def compute_performance(y_true, y_pred):\n",
    "    accuracy = accuracy_score(y_true, y_pred)\n",
    "    precision = precision_score(y_true, y_pred)\n",
    "    recall = recall_score(y_true, y_pred)\n",
    "    f1 = f1_score(y_true, y_pred)\n",
    "    return {'accuracy': accuracy, 'precision': precision, 'recall': recall, 'f1': f1}"
   ]
  },
  {
   "cell_type": "code",
   "execution_count": null,
   "id": "d8793806",
   "metadata": {},
   "outputs": [],
   "source": [
    "# EVALUATION RESULT HERE!!!\n",
    "eval_res = compute_performance(labels, preds)\n",
    "eval_res"
   ]
  }
 ],
 "metadata": {
  "kernelspec": {
   "display_name": "Python 3 (ipykernel)",
   "language": "python",
   "name": "python3"
  },
  "language_info": {
   "codemirror_mode": {
    "name": "ipython",
    "version": 3
   },
   "file_extension": ".py",
   "mimetype": "text/x-python",
   "name": "python",
   "nbconvert_exporter": "python",
   "pygments_lexer": "ipython3",
   "version": "3.7.3"
  }
 },
 "nbformat": 4,
 "nbformat_minor": 5
}
