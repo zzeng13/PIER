{
 "cells": [
  {
   "cell_type": "code",
   "execution_count": null,
   "id": "0ee574b0",
   "metadata": {},
   "outputs": [],
   "source": [
    "import os\n",
    "from datetime import datetime\n",
    "from tqdm import trange\n",
    "from src_idiom_detect.utils.data_util import *\n",
    "from src.train_valid_test_step import *\n",
    "from config import Config as config\n",
    "from torch.multiprocessing import set_start_method\n",
    "from src_idiom_detect.model.bilstm import Seq2SeqBiLSTMLite as Seq2SeqMdl\n",
    "from src_idiom_detect.utils.model_util import *\n",
    "from src_idiom_detect.utils.eval_util import *\n"
   ]
  },
  {
   "cell_type": "code",
   "execution_count": 2,
   "id": "e458168e",
   "metadata": {},
   "outputs": [],
   "source": [
    "def read_json_lines(path_to_file): \n",
    "    with open(path_to_file) as f:\n",
    "        content = f.readlines()\n",
    "    f.close()\n",
    "    raw_data  = [json.loads(x) for x in content] \n",
    "    return raw_data\n",
    "\n",
    "def read_json_file(path):\n",
    "    with open(path, 'r') as f:\n",
    "        return json.load(f)\n",
    "    \n",
    "def write_json_file(path, data):\n",
    "    with open(path, 'w') as f:\n",
    "        json.dump(data, f)\n",
    "    return"
   ]
  },
  {
   "cell_type": "code",
   "execution_count": null,
   "id": "cbda869f",
   "metadata": {},
   "outputs": [],
   "source": [
    "# Load model\n",
    "data_handler = DataHandler()\n",
    "save_path = config.PATH_TO_CHECKPOINT_DET\n",
    "model, optimizer, epoch_start = load_init_det_model(Seq2SeqMdl, data_handler.config)"
   ]
  },
  {
   "cell_type": "code",
   "execution_count": 4,
   "id": "76e234af",
   "metadata": {},
   "outputs": [
    {
     "name": "stdout",
     "output_type": "stream",
     "text": [
      "Adapter Name: fusion\n",
      "Adapter Split: random\n",
      "Task Split: random\n"
     ]
    }
   ],
   "source": [
    "# print out current test model information\n",
    "print('Adapter Name: {}'.format(config.ADAPTER_NAME))\n",
    "print('Adapter Split: {}'.format(config.SPLIT))\n",
    "print('Task Split: {}'.format(config.DET_TYPE))"
   ]
  },
  {
   "cell_type": "code",
   "execution_count": 5,
   "id": "4d82a074",
   "metadata": {},
   "outputs": [
    {
     "data": {
      "text/plain": [
       "4102"
      ]
     },
     "execution_count": 5,
     "metadata": {},
     "output_type": "execute_result"
    }
   ],
   "source": [
    "idioms = read_json_file('./fusion_analysis/idioms.json')\n",
    "len(idioms)"
   ]
  },
  {
   "cell_type": "code",
   "execution_count": 6,
   "id": "6fcf2211",
   "metadata": {},
   "outputs": [],
   "source": [
    "# Run prediction on test set"
   ]
  },
  {
   "cell_type": "code",
   "execution_count": 7,
   "id": "cb9d98ae",
   "metadata": {},
   "outputs": [
    {
     "name": "stderr",
     "output_type": "stream",
     "text": [
      "                                                                                                    \r"
     ]
    }
   ],
   "source": [
    "model.eval()\n",
    "labels, preds = [], []\n",
    "inputs = []\n",
    "labels_text, preds_text = [], []\n",
    "bbar = tqdm(enumerate(data_handler.validset_generator), ncols=100, leave=False, total=data_handler.config.num_batch_valid)\n",
    "for idx, data in bbar:\n",
    "    torch.cuda.empty_cache()\n",
    "    batch_size = data['xs']['input_ids'].shape[0]\n",
    "\n",
    "    # model forward pass\n",
    "    with torch.no_grad():\n",
    "        # model forward pass to compute loss\n",
    "        ys_, _ = model(data['xs'], data['x_lens'], data['ys'], training=False)\n",
    "        if data_handler.config.DETECT_MODEL_TYPE == 'bilstm':\n",
    "            data['ys'] = data['ys'][:, 1:]\n",
    "\n",
    "    # eval results\n",
    "    xs = list(data['xs']['input_ids'].cpu().detach().numpy())  # batch_size, max_xs_seq_len\n",
    "    ys = list(data['ys'].cpu().detach().numpy())  # batch_size, max_ys_seq_len\n",
    "    ys_ = list(torch.argmax(ys_, dim=2).cpu().detach().numpy())  # batch_size, max_ys_seq_len\n",
    "    xs, ys, ys_ = post_process_eval(xs, ys, ys_, data_handler.config)\n",
    "    \n",
    "    for bi in range(len(xs)): \n",
    "        preds_text.append(data_handler.tokenizer.decode([xs[bi][ti] for ti, t in enumerate(ys_[bi]) if t == 4]))\n",
    "        labels_text.append(data_handler.tokenizer.decode([xs[bi][ti] for ti, t in enumerate(ys[bi]) if t == 4]))\n",
    "                                                \n",
    "    preds += ys_\n",
    "    labels += ys\n",
    "    inputs += xs\n"
   ]
  },
  {
   "cell_type": "code",
   "execution_count": 8,
   "id": "0fb80092",
   "metadata": {},
   "outputs": [],
   "source": [
    "# results post-processing\n",
    "# 1. convert into binary \n",
    "for i in range(len(labels)): \n",
    "    labels[i] = [1 if t == 4 else 0 for t in labels[i]]\n",
    "    preds[i] = [1 if t == 4 else 0 for t in preds[i]]\n",
    "#     preds[i] = [0 for t in preds[i]]"
   ]
  },
  {
   "cell_type": "code",
   "execution_count": 9,
   "id": "8bca51b1",
   "metadata": {},
   "outputs": [],
   "source": [
    "# Compute evaluation metrics\n",
    "from sklearn.metrics import accuracy_score, precision_score, recall_score, f1_score\n",
    "def compute_performance(y_true, y_pred):\n",
    "    accuracy = accuracy_score(y_true, y_pred)\n",
    "    precision = precision_score(y_true, y_pred, labels=np.unique(y_pred))\n",
    "    recall = recall_score(y_true, y_pred, labels=np.unique(y_pred))\n",
    "    f1 = f1_score(y_true, y_pred, labels=np.unique(y_pred))\n",
    "    return {'accuracy': accuracy, 'precision': precision, 'recall': recall, 'f1': f1}\n",
    "\n",
    " "
   ]
  },
  {
   "cell_type": "code",
   "execution_count": 10,
   "id": "3c2c3db7",
   "metadata": {},
   "outputs": [],
   "source": [
    "bin_labels = [1 if 1 in d else 0 for d in labels]"
   ]
  },
  {
   "cell_type": "code",
   "execution_count": 11,
   "id": "83a66249",
   "metadata": {},
   "outputs": [
    {
     "data": {
      "text/plain": [
       "0.6006825938566553"
      ]
     },
     "execution_count": 11,
     "metadata": {},
     "output_type": "execute_result"
    }
   ],
   "source": [
    "# 1. compute sequence accuracy \n",
    "seq_acc = [1 if labels[i] == preds[i] else 0 for i in range(len(labels))]\n",
    "idiom2acc = [[idioms[i], seq_acc[i]] for i in range(len(seq_acc))]\n",
    "seq_acc = sum(seq_acc)/len(seq_acc)\n",
    "seq_acc"
   ]
  },
  {
   "cell_type": "code",
   "execution_count": null,
   "id": "3d562b74",
   "metadata": {},
   "outputs": [],
   "source": [
    "# 2. compute sequence level token accuracy, precision, recall and f1\n",
    "token_seq_level = {'accuracy': [], 'precision': [], 'recall': [], 'f1': []}\n",
    "for i in range(len(labels)): \n",
    "#     if sum(preds[i]) > 0: \n",
    "    cur_pref = compute_performance(labels[i], preds[i])\n",
    "    token_seq_level['accuracy'].append(cur_pref['accuracy'])\n",
    "    token_seq_level['precision'].append(cur_pref['precision'])\n",
    "    token_seq_level['recall'].append(cur_pref['recall'])\n",
    "    token_seq_level['f1'].append(cur_pref['f1'])\n",
    "\n",
    "    "
   ]
  },
  {
   "cell_type": "code",
   "execution_count": 22,
   "id": "107ec743",
   "metadata": {},
   "outputs": [
    {
     "data": {
      "text/plain": [
       "{'accuracy': 0.9642993981739959,\n",
       " 'precision': 0.6708277224427882,\n",
       " 'recall': 0.6450402893601332,\n",
       " 'f1': 0.6398106439992675}"
      ]
     },
     "execution_count": 22,
     "metadata": {},
     "output_type": "execute_result"
    }
   ],
   "source": [
    "token_seq_level = {k: np.mean(v) for k, v in token_seq_level.items()}\n",
    "token_seq_level"
   ]
  },
  {
   "cell_type": "code",
   "execution_count": 23,
   "id": "159273dc",
   "metadata": {},
   "outputs": [
    {
     "data": {
      "text/plain": [
       "{'accuracy': 0.9711082658862621,\n",
       " 'precision': 0.8510427010923535,\n",
       " 'recall': 0.8149204702627939,\n",
       " 'f1': 0.8325899757120777}"
      ]
     },
     "execution_count": 23,
     "metadata": {},
     "output_type": "execute_result"
    }
   ],
   "source": [
    "# 3. compute overall token accuracy, precision, recall and f1\n",
    "token_overall_level = compute_performance([t for sublist in labels for t in sublist], [t for sublist in preds for t in sublist])\n",
    "token_overall_level"
   ]
  },
  {
   "cell_type": "code",
   "execution_count": 24,
   "id": "7e201802",
   "metadata": {},
   "outputs": [
    {
     "data": {
      "text/plain": [
       "{'sequence_accuracy': 0.5405405405405406,\n",
       " 'token_perf_seq_level': {'accuracy': 0.9642993981739959,\n",
       "  'precision': 0.6708277224427882,\n",
       "  'recall': 0.6450402893601332,\n",
       "  'f1': 0.6398106439992675},\n",
       " 'token_pref_flatten': {'accuracy': 0.9711082658862621,\n",
       "  'precision': 0.8510427010923535,\n",
       "  'recall': 0.8149204702627939,\n",
       "  'f1': 0.8325899757120777}}"
      ]
     },
     "execution_count": 24,
     "metadata": {},
     "output_type": "execute_result"
    }
   ],
   "source": [
    "eval_res = {\n",
    "    'sequence_accuracy': seq_acc, \n",
    "    'token_perf_seq_level': token_seq_level,\n",
    "    'token_pref_flatten': token_overall_level\n",
    "}\n",
    "eval_res"
   ]
  },
  {
   "cell_type": "code",
   "execution_count": null,
   "id": "8f2ab12f",
   "metadata": {},
   "outputs": [],
   "source": []
  }
 ],
 "metadata": {
  "kernelspec": {
   "display_name": "Python 3 (ipykernel)",
   "language": "python",
   "name": "python3"
  },
  "language_info": {
   "codemirror_mode": {
    "name": "ipython",
    "version": 3
   },
   "file_extension": ".py",
   "mimetype": "text/x-python",
   "name": "python",
   "nbconvert_exporter": "python",
   "pygments_lexer": "ipython3",
   "version": "3.7.3"
  }
 },
 "nbformat": 4,
 "nbformat_minor": 5
}
