{
 "cells": [
  {
   "cell_type": "code",
   "execution_count": null,
   "id": "58fe58c7",
   "metadata": {},
   "outputs": [],
   "source": [
    "import os\n",
    "from datetime import datetime\n",
    "from tqdm import trange\n",
    "from src.utils.data_util import DataHandlerPI\n",
    "from src.train_valid_test_step import *\n",
    "from config import Config as config\n",
    "from torch.multiprocessing import set_start_method\n",
    "from src.classifiers.paraphrase_identifier import ParaphraseIdentifier\n",
    "from src.utils.file_util import *"
   ]
  },
  {
   "cell_type": "code",
   "execution_count": null,
   "id": "763fec2b",
   "metadata": {},
   "outputs": [],
   "source": [
    "# Load model\n",
    "data_handler = DataHandlerPI()\n",
    "\n",
    "# Manage and initialize model\n",
    "# ---------------------------------------------------------------------------------\n",
    "# Initialize model\n",
    "epoch_start = 0  #\n",
    "model = ParaphraseIdentifier(data_handler.config)\n",
    "model.to(config.DEVICE)"
   ]
  },
  {
   "cell_type": "code",
   "execution_count": 3,
   "id": "b2055206",
   "metadata": {},
   "outputs": [
    {
     "name": "stdout",
     "output_type": "stream",
     "text": [
      "Adapter Name: fusion\n",
      "Adapter Split: random\n",
      "Task Split: random\n"
     ]
    }
   ],
   "source": [
    "# print out current test model information\n",
    "print('Adapter Name: {}'.format(config.ADAPTER_NAME))\n",
    "print('Adapter Split: {}'.format(config.SPLIT))\n",
    "print('Task Split: {}'.format(config.CLS_TYPE))"
   ]
  },
  {
   "cell_type": "code",
   "execution_count": 4,
   "id": "f8535c4a",
   "metadata": {},
   "outputs": [
    {
     "name": "stderr",
     "output_type": "stream",
     "text": [
      "                                                                                                    \r"
     ]
    }
   ],
   "source": [
    "model.eval()\n",
    "bbar = tqdm(enumerate(data_handler.testset_generator),\n",
    "                ncols=100, leave=False, total=data_handler.config.num_batch_test)\n",
    "\n",
    "labels, preds = [], []\n",
    "mc_preds = []\n",
    "for idx, data in bbar:\n",
    "\n",
    "    with torch.no_grad():\n",
    "        # model forward pass to compute loss\n",
    "        loss, logits = model(data)\n",
    "    ys = data['labels'].cpu().detach().numpy().tolist()\n",
    "    labels += ys\n",
    "    ys_ = torch.argmax(logits, dim=-1).cpu().detach().numpy().tolist()\n",
    "    preds += ys_\n",
    "    mc_preds += [1 for _ in ys_]"
   ]
  },
  {
   "cell_type": "code",
   "execution_count": 6,
   "id": "e7123bc4",
   "metadata": {},
   "outputs": [],
   "source": [
    "from sklearn.metrics import accuracy_score, precision_score, recall_score, f1_score\n",
    "def compute_performance(y_true, y_pred):\n",
    "    accuracy = accuracy_score(y_true, y_pred)\n",
    "    precision = precision_score(y_true, y_pred)\n",
    "    recall = recall_score(y_true, y_pred)\n",
    "    f1 = f1_score(y_true, y_pred)\n",
    "    return {'accuracy': accuracy, 'precision': precision, 'recall': recall, 'f1': f1}"
   ]
  },
  {
   "cell_type": "code",
   "execution_count": 7,
   "id": "7ed06e55",
   "metadata": {},
   "outputs": [
    {
     "data": {
      "text/plain": [
       "{'accuracy': 0.9084205518553758,\n",
       " 'precision': 0.8731635651322233,\n",
       " 'recall': 0.9339968569931901,\n",
       " 'f1': 0.9025563148569983}"
      ]
     },
     "execution_count": 7,
     "metadata": {},
     "output_type": "execute_result"
    }
   ],
   "source": [
    "eval_res = compute_performance(labels, preds)\n",
    "eval_res"
   ]
  },
  {
   "cell_type": "code",
   "execution_count": null,
   "id": "4652fc52",
   "metadata": {},
   "outputs": [],
   "source": []
  }
 ],
 "metadata": {
  "kernelspec": {
   "display_name": "Python 3 (ipykernel)",
   "language": "python",
   "name": "python3"
  },
  "language_info": {
   "codemirror_mode": {
    "name": "ipython",
    "version": 3
   },
   "file_extension": ".py",
   "mimetype": "text/x-python",
   "name": "python",
   "nbconvert_exporter": "python",
   "pygments_lexer": "ipython3",
   "version": "3.7.3"
  }
 },
 "nbformat": 4,
 "nbformat_minor": 5
}
